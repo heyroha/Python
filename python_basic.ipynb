{
  "nbformat": 4,
  "nbformat_minor": 0,
  "metadata": {
    "colab": {
      "provenance": [],
      "authorship_tag": "ABX9TyMUvsYeJi9wWGEsabbbxl3o",
      "include_colab_link": true
    },
    "kernelspec": {
      "name": "python3",
      "display_name": "Python 3"
    },
    "language_info": {
      "name": "python"
    }
  },
  "cells": [
    {
      "cell_type": "markdown",
      "metadata": {
        "id": "view-in-github",
        "colab_type": "text"
      },
      "source": [
        "<a href=\"https://colab.research.google.com/github/heyroha/Python/blob/main/python_basic.ipynb\" target=\"_parent\"><img src=\"https://colab.research.google.com/assets/colab-badge.svg\" alt=\"Open In Colab\"/></a>"
      ]
    },
    {
      "cell_type": "code",
      "execution_count": null,
      "metadata": {
        "colab": {
          "base_uri": "https://localhost:8080/"
        },
        "id": "y1t7Mc7z_FN0",
        "outputId": "97163bad-aefb-4306-9bac-0613b167baf1"
      },
      "outputs": [
        {
          "output_type": "stream",
          "name": "stdout",
          "text": [
            "Hello World!\n"
          ]
        }
      ],
      "source": [
        "print(\"Hello World!\")#ctrl+enter 현재 셀 실행\n",
        "# ctrl+/ 토글\n",
        "# shift+enter 하면 다음셀로 넘어감\n",
        "# alt+enter 하면 실행하고 밑에다가 셀을 새로 만듦\n",
        "# esc 하면 방향키 위아래로 셀 이동. 엔터치면 다시 코드작성 a는 위의셀. b는 아래셀\n",
        "# ctrl+m,d 하면 셀 삭제/ ctrl+m,z 하면 셀 수준 실행취소\n"
      ]
    },
    {
      "cell_type": "markdown",
      "source": [
        "#**마크다운**\n",
        "####마크다운은 일반 텍스트 기반의 경량 마크업 언어. \n",
        "#####(마크업이란 문서 내에 끼워 넣는 일련의 부호로 구성되며 대표적인 마크업 언어로는 HTML과 SGML이 있다.)\n",
        "\n",
        "EX>\n",
        "# 큰 제목 1\n",
        "## 그 다음으로 큰\n",
        "### **볼드**\n",
        "\n",
        "- 1\n",
        " - 1-1\n",
        "   - 1-1-1\n",
        "   - 1-1-2\n",
        "   >ㅎㅎ\n",
        "   >>ㅎㅎㅎ\n",
        "\n",
        "$y=x$\n",
        "\n",
        "```python\n",
        "print(\"hello world\")\n",
        "```\n",
        "\n",
        "\n"
      ],
      "metadata": {
        "id": "vLj3e19mCP6P"
      }
    },
    {
      "cell_type": "markdown",
      "source": [
        "#**파이썬은 계산기다!**\n",
        "- 자료형(type)/append"
      ],
      "metadata": {
        "id": "PNS18L6fD98h"
      }
    },
    {
      "cell_type": "code",
      "source": [
        "type(3.6)#type 을 사용하면 변수형을 알려줌\n",
        "type(2)"
      ],
      "metadata": {
        "colab": {
          "base_uri": "https://localhost:8080/"
        },
        "id": "PH6jyJ4tDLvu",
        "outputId": "95c4a75f-e938-4dc7-8928-ccbc5f23248a"
      },
      "execution_count": null,
      "outputs": [
        {
          "output_type": "execute_result",
          "data": {
            "text/plain": [
              "int"
            ]
          },
          "metadata": {},
          "execution_count": 10
        }
      ]
    },
    {
      "cell_type": "code",
      "source": [
        "4//2 #2.0 은 \"두번째\"라는 걸 못 나타내서 이런거 필요"
      ],
      "metadata": {
        "colab": {
          "base_uri": "https://localhost:8080/"
        },
        "id": "CyA_rt9pEqJm",
        "outputId": "352d317a-0c7b-40cc-a146-8cd9b95683b0"
      },
      "execution_count": null,
      "outputs": [
        {
          "output_type": "execute_result",
          "data": {
            "text/plain": [
              "2"
            ]
          },
          "metadata": {},
          "execution_count": 11
        }
      ]
    },
    {
      "cell_type": "code",
      "source": [
        "5//2 #얘는 사실 몫을 뱉어주는것"
      ],
      "metadata": {
        "colab": {
          "base_uri": "https://localhost:8080/"
        },
        "id": "WIlF0kcFE5-M",
        "outputId": "83de5c19-a489-4cee-d0d0-69246cc0268c"
      },
      "execution_count": null,
      "outputs": [
        {
          "output_type": "execute_result",
          "data": {
            "text/plain": [
              "2"
            ]
          },
          "metadata": {},
          "execution_count": 12
        }
      ]
    },
    {
      "cell_type": "code",
      "source": [
        "int(5/2)"
      ],
      "metadata": {
        "colab": {
          "base_uri": "https://localhost:8080/"
        },
        "id": "EJHR8it-E-PS",
        "outputId": "781dba7a-e366-4458-dc9f-f180c7d9a80e"
      },
      "execution_count": null,
      "outputs": [
        {
          "output_type": "execute_result",
          "data": {
            "text/plain": [
              "2"
            ]
          },
          "metadata": {},
          "execution_count": 13
        }
      ]
    },
    {
      "cell_type": "code",
      "source": [
        "int(2.9)#반올림이 아니라 소수점 아래 삭제다"
      ],
      "metadata": {
        "colab": {
          "base_uri": "https://localhost:8080/"
        },
        "id": "AV54Mne-FD4k",
        "outputId": "12709360-3ce8-48c1-cdf7-1fbb622c4e6d"
      },
      "execution_count": null,
      "outputs": [
        {
          "output_type": "execute_result",
          "data": {
            "text/plain": [
              "2"
            ]
          },
          "metadata": {},
          "execution_count": 14
        }
      ]
    },
    {
      "cell_type": "code",
      "source": [
        "15%2 #반면에 이건 나머지를 알려줌. 유식한 말로 modulo 연산"
      ],
      "metadata": {
        "colab": {
          "base_uri": "https://localhost:8080/"
        },
        "id": "T4oP191iFKTQ",
        "outputId": "dfa1695c-8b3c-4216-b089-a3202529c5c9"
      },
      "execution_count": null,
      "outputs": [
        {
          "output_type": "execute_result",
          "data": {
            "text/plain": [
              "1"
            ]
          },
          "metadata": {},
          "execution_count": 15
        }
      ]
    },
    {
      "cell_type": "code",
      "source": [
        "2**10 #2의10승 2^10 이 아님"
      ],
      "metadata": {
        "colab": {
          "base_uri": "https://localhost:8080/"
        },
        "id": "iUqr_ZGtFPo5",
        "outputId": "db6f8cdb-89bd-4eef-c63d-0615fd59c78b"
      },
      "execution_count": null,
      "outputs": [
        {
          "output_type": "execute_result",
          "data": {
            "text/plain": [
              "1024"
            ]
          },
          "metadata": {},
          "execution_count": 16
        }
      ]
    },
    {
      "cell_type": "code",
      "source": [
        "print(0b011) #0b는 2진수로 써줘야함2진수를 10진수로\n",
        "print(0xA) #그냥 하면 마지막것만 보여줘서 둘 다 print로 붙여줌"
      ],
      "metadata": {
        "colab": {
          "base_uri": "https://localhost:8080/"
        },
        "id": "EtU9VE-AFYau",
        "outputId": "8be6168c-0d2d-4cb5-9424-b23a10cfca7b"
      },
      "execution_count": null,
      "outputs": [
        {
          "output_type": "stream",
          "name": "stdout",
          "text": [
            "3\n",
            "10\n"
          ]
        }
      ]
    },
    {
      "cell_type": "code",
      "source": [
        "# 1a=10 #변수명 앞에는 숫자가 올 수 없다\n",
        "# del=a 하면 변수 a 삭제"
      ],
      "metadata": {
        "id": "MBvFf7L8FjM2"
      },
      "execution_count": null,
      "outputs": []
    },
    {
      "cell_type": "code",
      "source": [
        "a=1; b=2\n",
        "c=a+b\n",
        "print(c)"
      ],
      "metadata": {
        "colab": {
          "base_uri": "https://localhost:8080/"
        },
        "id": "Pg5S359oHXGs",
        "outputId": "2ea6b0fc-db4b-4dee-da86-09dd626865a0"
      },
      "execution_count": null,
      "outputs": [
        {
          "output_type": "stream",
          "name": "stdout",
          "text": [
            "3\n"
          ]
        }
      ]
    },
    {
      "cell_type": "code",
      "source": [
        "print(bool(1)) #bool 이라는 것은 true와 false 를 말함#\n",
        "x=1\n",
        "print(type(x>1))#true와 false로 나타내기 때문에 bool"
      ],
      "metadata": {
        "id": "06UvO-nkHdDF",
        "colab": {
          "base_uri": "https://localhost:8080/"
        },
        "outputId": "958ed89a-378b-4083-d89c-e22281c09eda"
      },
      "execution_count": null,
      "outputs": [
        {
          "output_type": "stream",
          "name": "stdout",
          "text": [
            "True\n",
            "<class 'bool'>\n"
          ]
        }
      ]
    },
    {
      "cell_type": "code",
      "source": [
        "a=[1,2,3];b=[3,4,5]\n",
        "print(a+b) #더하는 게 아니고 쌓는 것이다."
      ],
      "metadata": {
        "colab": {
          "base_uri": "https://localhost:8080/"
        },
        "id": "Si5y36y_4m_S",
        "outputId": "a91864af-7cc5-47e7-a6ad-e6a78bd5ef17"
      },
      "execution_count": null,
      "outputs": [
        {
          "output_type": "stream",
          "name": "stdout",
          "text": [
            "[1, 2, 3, 3, 4, 5]\n"
          ]
        }
      ]
    },
    {
      "cell_type": "code",
      "source": [
        "a=[4,\"ㅋ\",6] #뭐든 들어간다.\n",
        "print(a)"
      ],
      "metadata": {
        "colab": {
          "base_uri": "https://localhost:8080/"
        },
        "id": "N1LIzJQG5axO",
        "outputId": "cb12acfd-ae77-462c-d500-dfae18a4c264"
      },
      "execution_count": null,
      "outputs": [
        {
          "output_type": "stream",
          "name": "stdout",
          "text": [
            "[4, 'ㅋ', 6]\n"
          ]
        }
      ]
    },
    {
      "cell_type": "code",
      "source": [
        "c=[]#빈 리스트\n",
        "c.append(1)\n",
        "c.append(\"하하\")\n",
        "c.append(3)\n",
        "print(c)"
      ],
      "metadata": {
        "colab": {
          "base_uri": "https://localhost:8080/"
        },
        "id": "uvjFGYeh5jmg",
        "outputId": "13ee5b50-5d4d-4fe2-b799-8c1e2f6063ac"
      },
      "execution_count": null,
      "outputs": [
        {
          "output_type": "stream",
          "name": "stdout",
          "text": [
            "[1, '하하', 3]\n"
          ]
        }
      ]
    },
    {
      "cell_type": "markdown",
      "source": [
        "#**range는 반복문의 친구**\n"
      ],
      "metadata": {
        "id": "fIyK3G-27Ixd"
      }
    },
    {
      "cell_type": "markdown",
      "source": [],
      "metadata": {
        "id": "IW5p2pUd7Hdz"
      }
    },
    {
      "cell_type": "code",
      "source": [
        "range(10)\n",
        "a=list(range(10)) #range를 list로 바꿔줌\n",
        "print(a)"
      ],
      "metadata": {
        "colab": {
          "base_uri": "https://localhost:8080/"
        },
        "id": "4XqbXKKK5nwz",
        "outputId": "21b5b024-6932-40fd-a758-044551383f64"
      },
      "execution_count": null,
      "outputs": [
        {
          "output_type": "stream",
          "name": "stdout",
          "text": [
            "[0, 1, 2, 3, 4, 5, 6, 7, 8, 9]\n"
          ]
        }
      ]
    },
    {
      "cell_type": "code",
      "source": [
        "b=list(range(1,11)) #1부터 시작 그리고 11미만까지지\n",
        "print(b)\n",
        "c=list(range(1,11,2)) #1부터 시작 11미만까지 2 간격\n",
        "print(c)\n",
        "print(list(range(10,0,-1))) #10부터 시작 0 초과까지"
      ],
      "metadata": {
        "colab": {
          "base_uri": "https://localhost:8080/"
        },
        "id": "obPvIVUT7itP",
        "outputId": "01de823e-078c-42fc-f85e-0a3b8a458a39"
      },
      "execution_count": 4,
      "outputs": [
        {
          "output_type": "stream",
          "name": "stdout",
          "text": [
            "[1, 2, 3, 4, 5, 6, 7, 8, 9, 10]\n",
            "[1, 3, 5, 7, 9]\n",
            "[10, 9, 8, 7, 6, 5, 4, 3, 2, 1]\n"
          ]
        }
      ]
    },
    {
      "cell_type": "markdown",
      "source": [
        "#**in은 있냐? 를 물어봄**"
      ],
      "metadata": {
        "id": "ofNNK25E-kGC"
      }
    },
    {
      "cell_type": "code",
      "source": [
        "a=list(range(10))\n",
        "b=tuple(range(10))\n",
        "c=range(10)\n",
        "print(1 in a) #a에 1이 있는가?\n",
        "print(1 not in b) #b에 1이 없는가?\n",
        "print(15 in b)\n"
      ],
      "metadata": {
        "colab": {
          "base_uri": "https://localhost:8080/"
        },
        "id": "Tv7rMhHr8iBS",
        "outputId": "1edfb7a3-1fe5-464a-e1e8-2ceb9f473aee"
      },
      "execution_count": null,
      "outputs": [
        {
          "output_type": "stream",
          "name": "stdout",
          "text": [
            "True\n",
            "False\n",
            "False\n"
          ]
        }
      ]
    },
    {
      "cell_type": "markdown",
      "source": [
        "#**리스트의 기본 연산과 인덱싱**"
      ],
      "metadata": {
        "id": "Vq8Q4_dm_Egs"
      }
    },
    {
      "cell_type": "code",
      "source": [
        "a=[1,2,3]\n",
        "b=a+a\n",
        "c=a*3\n",
        "d=a*(12//4) # *(곱하기)연산자는 반복하는 것\n",
        "print(a)\n",
        "print(b)\n",
        "print(c)\n",
        "print(d)"
      ],
      "metadata": {
        "colab": {
          "base_uri": "https://localhost:8080/"
        },
        "id": "K_-TGcNd_JQS",
        "outputId": "a2a7bbc7-2dc5-4ab2-eac7-6df2db33027d"
      },
      "execution_count": null,
      "outputs": [
        {
          "output_type": "stream",
          "name": "stdout",
          "text": [
            "[1, 2, 3]\n",
            "[1, 2, 3, 1, 2, 3]\n",
            "[1, 2, 3, 1, 2, 3, 1, 2, 3]\n",
            "[1, 2, 3, 1, 2, 3, 1, 2, 3]\n"
          ]
        }
      ]
    },
    {
      "cell_type": "code",
      "source": [
        "a=[1,2,3]\n",
        "print(len(a)) #len 은 길이length를 알려줌"
      ],
      "metadata": {
        "colab": {
          "base_uri": "https://localhost:8080/"
        },
        "id": "sHiFzPOG_gO0",
        "outputId": "44477f15-cca3-4960-855b-bce7f768ba59"
      },
      "execution_count": null,
      "outputs": [
        {
          "output_type": "stream",
          "name": "stdout",
          "text": [
            "3\n"
          ]
        }
      ]
    },
    {
      "cell_type": "code",
      "source": [
        "s=\"hello\"\n",
        "s2=[\"hello\"]\n",
        "print(s)\n",
        "print(len(s)) #len 안에 문자열이 들어오면 문자열의 개수를 알려주고\n",
        "#len 안에 리스트가 들어오면 리스트에 들어있는 항목의 개수를 알려준다\n",
        "print(len(s2))"
      ],
      "metadata": {
        "colab": {
          "base_uri": "https://localhost:8080/"
        },
        "id": "iP4wVTjX_76R",
        "outputId": "bcf1db55-3e25-40cc-f0ef-0457a8205ed3"
      },
      "execution_count": null,
      "outputs": [
        {
          "output_type": "stream",
          "name": "stdout",
          "text": [
            "hello\n",
            "5\n",
            "1\n"
          ]
        }
      ]
    },
    {
      "cell_type": "code",
      "source": [
        "a=[1,2,3]\n",
        "print(a[0]) #a[i]:i번째의 값을 가리킴. 이를 인덱싱이라고 함.\n",
        "print(a[0],a[1],a[2])\n",
        "print(a[-1])#-1은 마지막 것을 가리킨다. 0이 첫번짼데 뒤로 뺑 돌아가서 -1로 한다.\n",
        "print(a[-1],a[-2],a[-3]) #음수로 마지막걸 표현 가능하다."
      ],
      "metadata": {
        "colab": {
          "base_uri": "https://localhost:8080/"
        },
        "id": "DQoOS6ENAN5Z",
        "outputId": "9fcf25f3-917d-4832-d1cf-70f30e5de253"
      },
      "execution_count": null,
      "outputs": [
        {
          "output_type": "stream",
          "name": "stdout",
          "text": [
            "1\n",
            "1 2 3\n",
            "3\n",
            "3 2 1\n"
          ]
        }
      ]
    },
    {
      "cell_type": "code",
      "source": [
        "r=range(0,10,2)\n",
        "print (r[0],r[1],r[2])"
      ],
      "metadata": {
        "colab": {
          "base_uri": "https://localhost:8080/"
        },
        "id": "unX-ws2uBVUt",
        "outputId": "72d8e08f-5fe2-459a-a3cc-afde93841be8"
      },
      "execution_count": null,
      "outputs": [
        {
          "output_type": "stream",
          "name": "stdout",
          "text": [
            "0 2 4\n"
          ]
        }
      ]
    },
    {
      "cell_type": "code",
      "source": [
        "a=[1,2,3]\n",
        "a[0]=3\n",
        "a[1]=3\n",
        "a[2]=110\n",
        "print(a) #mutable"
      ],
      "metadata": {
        "colab": {
          "base_uri": "https://localhost:8080/"
        },
        "id": "SXdDrDuABp17",
        "outputId": "739c893f-68cd-4e68-8f04-39a02de7591a"
      },
      "execution_count": null,
      "outputs": [
        {
          "output_type": "stream",
          "name": "stdout",
          "text": [
            "[3, 3, 110]\n"
          ]
        }
      ]
    },
    {
      "cell_type": "code",
      "source": [
        "a=(1,2,3)\n",
        "a[0]=1 #list는 위처럼 수가 인가가 되지만 튜플은 인가가 되지 않음\n",
        "print(a) #immutable 즉, 수가 변경되지 않음"
      ],
      "metadata": {
        "colab": {
          "base_uri": "https://localhost:8080/",
          "height": 209
        },
        "id": "JPDBgC1uB4YW",
        "outputId": "cb864e0e-11a5-4db9-bb22-9a330c7b3166"
      },
      "execution_count": null,
      "outputs": [
        {
          "output_type": "error",
          "ename": "TypeError",
          "evalue": "ignored",
          "traceback": [
            "\u001b[0;31m---------------------------------------------------------------------------\u001b[0m",
            "\u001b[0;31mTypeError\u001b[0m                                 Traceback (most recent call last)",
            "\u001b[0;32m<ipython-input-37-71c8865bf883>\u001b[0m in \u001b[0;36m<cell line: 2>\u001b[0;34m()\u001b[0m\n\u001b[1;32m      1\u001b[0m \u001b[0ma\u001b[0m\u001b[0;34m=\u001b[0m\u001b[0;34m(\u001b[0m\u001b[0;36m1\u001b[0m\u001b[0;34m,\u001b[0m\u001b[0;36m2\u001b[0m\u001b[0;34m,\u001b[0m\u001b[0;36m3\u001b[0m\u001b[0;34m)\u001b[0m\u001b[0;34m\u001b[0m\u001b[0;34m\u001b[0m\u001b[0m\n\u001b[0;32m----> 2\u001b[0;31m \u001b[0ma\u001b[0m\u001b[0;34m[\u001b[0m\u001b[0;36m0\u001b[0m\u001b[0;34m]\u001b[0m\u001b[0;34m=\u001b[0m\u001b[0;36m1\u001b[0m\u001b[0;34m\u001b[0m\u001b[0;34m\u001b[0m\u001b[0m\n\u001b[0m\u001b[1;32m      3\u001b[0m \u001b[0mprint\u001b[0m\u001b[0;34m(\u001b[0m\u001b[0ma\u001b[0m\u001b[0;34m)\u001b[0m\u001b[0;34m\u001b[0m\u001b[0;34m\u001b[0m\u001b[0m\n",
            "\u001b[0;31mTypeError\u001b[0m: 'tuple' object does not support item assignment"
          ]
        }
      ]
    },
    {
      "cell_type": "code",
      "source": [
        "a=[1,2,3]\n",
        "del a[1]\n",
        "print(a)"
      ],
      "metadata": {
        "colab": {
          "base_uri": "https://localhost:8080/"
        },
        "id": "xIHzh3SSCCKn",
        "outputId": "531fbf8b-a9ca-4b78-f820-eb76d77aa5f1"
      },
      "execution_count": null,
      "outputs": [
        {
          "output_type": "stream",
          "name": "stdout",
          "text": [
            "[1, 3]\n"
          ]
        }
      ]
    },
    {
      "cell_type": "markdown",
      "source": [
        "##**굉장히 많이 쓰이는 슬라이스**"
      ],
      "metadata": {
        "id": "6qdunYEMCb1R"
      }
    },
    {
      "cell_type": "code",
      "source": [
        "a=[1,2,3,4,5,6,7,8,9,10]\n",
        "b=a[0:3] #0부터 3미만번째까지 긁어오기\n",
        "print(b)"
      ],
      "metadata": {
        "colab": {
          "base_uri": "https://localhost:8080/"
        },
        "id": "6gLVI75dCZK_",
        "outputId": "560800c7-9ab3-44a4-86ff-6caba3982b93"
      },
      "execution_count": null,
      "outputs": [
        {
          "output_type": "stream",
          "name": "stdout",
          "text": [
            "[1, 2, 3]\n"
          ]
        }
      ]
    },
    {
      "cell_type": "code",
      "source": [
        "a=[1,2,3,4,5,6,7,8,9,10]\n",
        "print(a[1:3])\n",
        "print(a[3:-1])\n",
        "print(a[1:7:2]) #8은 비포함\n",
        "print(a[:5])#첫번째 자리를 비우면 처음 것부터\n",
        "print(a[5:]) #두번째 자리를 비우면 마지막까지\n"
      ],
      "metadata": {
        "colab": {
          "base_uri": "https://localhost:8080/"
        },
        "id": "4UowFDEVCvF1",
        "outputId": "9e91829e-d950-427d-f2a6-72228bb19e79"
      },
      "execution_count": null,
      "outputs": [
        {
          "output_type": "stream",
          "name": "stdout",
          "text": [
            "[2, 3]\n",
            "[4, 5, 6, 7, 8, 9]\n",
            "[2, 4, 6]\n",
            "[1, 2, 3, 4, 5]\n",
            "[6, 7, 8, 9, 10]\n"
          ]
        }
      ]
    },
    {
      "cell_type": "code",
      "source": [
        "a=[1,2,3,4,5,6,7,8,9,10]\n",
        "print(a[::])#세번째걸 비워놓으면 디폴트로 1씩 증가\n",
        "#즉a[:]와 동일"
      ],
      "metadata": {
        "colab": {
          "base_uri": "https://localhost:8080/"
        },
        "id": "bbfyLI8vDm42",
        "outputId": "0938f8c4-fb9f-46e2-dc3f-feec02a997ac"
      },
      "execution_count": null,
      "outputs": [
        {
          "output_type": "stream",
          "name": "stdout",
          "text": [
            "[1, 2, 3, 4, 5, 6, 7, 8, 9, 10]\n"
          ]
        }
      ]
    },
    {
      "cell_type": "code",
      "source": [
        "a=[1,2,3,4,5,6,7,8,9,10]\n",
        "print()"
      ],
      "metadata": {
        "id": "Sv0oBZO_D4j4",
        "colab": {
          "base_uri": "https://localhost:8080/"
        },
        "outputId": "54d0ed67-4ccb-451b-e88b-ecb0e4dbc54d"
      },
      "execution_count": 5,
      "outputs": [
        {
          "output_type": "stream",
          "name": "stdout",
          "text": [
            "\n"
          ]
        }
      ]
    },
    {
      "cell_type": "markdown",
      "source": [
        "#**딕셔너리**"
      ],
      "metadata": {
        "id": "TZhloQLoEj7Z"
      }
    },
    {
      "cell_type": "code",
      "source": [
        "dic1={\"a\":1,\"b\":2,100:\"5\",200:\"ㅎㅎ\"} #중괄호다. 콜론(:)이 들어간다. 왼쪽이 키 오른쪽이 값.\n",
        "#키:값 이고 숫자 문자 뭐든 키, 값이 될 수 있다.\n",
        "#키에는 수정할 수 없는 튜플은 되고, 리스트는 안됨\n",
        "#값에는 튜플도 되고 리스트도 됨\n",
        "print(dic1)\n",
        "print(dic1[\"a\"])\n",
        "print(len(dic1))#네쌍이라서 4\n",
        "print(dic1.keys())\n",
        "print(dic1.values())\n",
        "print(dic1.items())\n"
      ],
      "metadata": {
        "id": "Srj6T0xsBIHr",
        "colab": {
          "base_uri": "https://localhost:8080/"
        },
        "outputId": "f6bc5e65-d246-4eb7-fb1a-fb113eaecf24"
      },
      "execution_count": 2,
      "outputs": [
        {
          "output_type": "stream",
          "name": "stdout",
          "text": [
            "{'a': 1, 'b': 2, 100: '5', 200: 'ㅎㅎ'}\n",
            "1\n",
            "4\n",
            "dict_keys(['a', 'b', 100, 200])\n",
            "dict_values([1, 2, '5', 'ㅎㅎ'])\n",
            "dict_items([('a', 1), ('b', 2), (100, '5'), (200, 'ㅎㅎ')])\n"
          ]
        }
      ]
    },
    {
      "cell_type": "code",
      "source": [
        "print(list(zip([\"a\",\"b\"],[1,2])dic2))\n",
        "a=dict(zip([\"a\",\"b\"],[1,2]))\n",
        "print(a)#한쪽엔 키만 모아놓고, 값만 모아놔서 zipper처럼 한번에 묶어준다는 뜻."
      ],
      "metadata": {
        "id": "WNh3LZ07BABK",
        "colab": {
          "base_uri": "https://localhost:8080/"
        },
        "outputId": "163b3e6b-795b-41a8-a142-0626e3fdc1e0"
      },
      "execution_count": 6,
      "outputs": [
        {
          "output_type": "stream",
          "name": "stdout",
          "text": [
            "[('a', 1), ('b', 2)]\n",
            "{'a': 1, 'b': 2}\n"
          ]
        }
      ]
    },
    {
      "cell_type": "code",
      "source": [
        "dic1={\"a\":1,\"b\":2,\"c\":3,\"d\":4}\n",
        "dic1[\"a\"]=100; dic1[\"b\"]=200\n",
        "print(dic1)\n",
        "dic1[\"e\"]=\"새로운키\"\n",
        "print(dic1)\n",
        "print(\"a\" in dic1) #\"a\"라는 키가 있는가\n",
        "print(100 in dic1) #100 이라는 키가 있는가\n"
      ],
      "metadata": {
        "id": "ggekJwRIA5QO",
        "colab": {
          "base_uri": "https://localhost:8080/"
        },
        "outputId": "daace068-286b-420b-ff9e-a7805fb8b309"
      },
      "execution_count": 11,
      "outputs": [
        {
          "output_type": "stream",
          "name": "stdout",
          "text": [
            "{'a': 100, 'b': 200, 'c': 3, 'd': 4}\n",
            "{'a': 100, 'b': 200, 'c': 3, 'd': 4, 'e': '새로운키'}\n",
            "True\n",
            "False\n"
          ]
        }
      ]
    },
    {
      "cell_type": "markdown",
      "source": [
        "#**조건문**"
      ],
      "metadata": {
        "id": "fRSB-2lzkVrQ"
      }
    },
    {
      "cell_type": "code",
      "source": [
        "a=5\n",
        "print(a>3)\n",
        "print(a<3)\n",
        "print(a==5)\n",
        "\n",
        "if a>3:\n",
        "    print(\"3보다 큽니다.\")\n",
        "\n",
        "if a<3:\n",
        "    print(\"3보다 작습니다.\") #해당되지 않는 경우 그냥 지나감.\n",
        "\n",
        "if a==5:\n",
        "    print(\"5와 같습니다.\")\n",
        "\n"
      ],
      "metadata": {
        "id": "YwX9U9lwAm3_",
        "colab": {
          "base_uri": "https://localhost:8080/"
        },
        "outputId": "8cb07cca-8e49-4329-fa71-5ee684449119"
      },
      "execution_count": 13,
      "outputs": [
        {
          "output_type": "stream",
          "name": "stdout",
          "text": [
            "True\n",
            "False\n",
            "True\n",
            "3보다 큽니다\n"
          ]
        }
      ]
    },
    {
      "cell_type": "code",
      "source": [
        "a=5\n",
        "if a==5:\n",
        "    print(\"5와\")\n",
        "    print(\"같습니다\") #파이썬에서는 들여쓰기가 c언어의 {}와 같다.\n",
        "\n",
        "#if a==5:\n",
        "#    print(\"5와\")\n",
        "#        print(\"같습니다\") #이는 들여쓰기가 달라서 오류가 된다.\n",
        "\n",
        "if a==5:\n",
        "    print(\"5와 같습니다.\")\n",
        "print(\"if문 밖으로 나옴. 여기서부터 계속 실행된다.\")\n",
        "    "
      ],
      "metadata": {
        "id": "xBVEavkHACah",
        "colab": {
          "base_uri": "https://localhost:8080/"
        },
        "outputId": "d7f3f2ca-3c68-4c19-fd88-ee24b2a598a6"
      },
      "execution_count": 17,
      "outputs": [
        {
          "output_type": "stream",
          "name": "stdout",
          "text": [
            "5와\n",
            "같습니다\n",
            "5와 같습니다.\n",
            "if문 밖으로 나옴. 여기서부터 계속 실행된다.\n"
          ]
        }
      ]
    },
    {
      "cell_type": "code",
      "source": [
        "x=15\n",
        "if x>10:\n",
        "    print(\"10보다 크다.\")\n",
        "    if x==15:\n",
        "        print(\"15입니다.\")\n",
        "    if x==20:\n",
        "        print(\"20 입니다.\")"
      ],
      "metadata": {
        "id": "nTlSGPWL_-EL",
        "colab": {
          "base_uri": "https://localhost:8080/"
        },
        "outputId": "3574b3e3-995d-496a-cdef-fd7d80678e7d"
      },
      "execution_count": 19,
      "outputs": [
        {
          "output_type": "stream",
          "name": "stdout",
          "text": [
            "10보다 크다.\n",
            "15입니다.\n"
          ]
        }
      ]
    },
    {
      "cell_type": "code",
      "source": [
        "x=15\n",
        "if x<10: #애초에 여길 통과 못해서 이 안에 if x==15: 가 있더라도 실행되지 않음!\n",
        "    print(\"10보다 크다.\")\n",
        "    if x==15:\n",
        "        print(\"15입니다.\")\n",
        "    if x==20:\n",
        "        print(\"20 입니다.\")"
      ],
      "metadata": {
        "id": "IBAJJslx_3pO"
      },
      "execution_count": null,
      "outputs": []
    },
    {
      "cell_type": "code",
      "source": [
        "x=15\n",
        "if x<10:\n",
        "    print(\"x는 10보다 작습니다(10미만)\")\n",
        "else:\n",
        "    print(\"그 이외 (10이상)\")\n",
        "    print(\"else도 들여쓰기 영역 모두 실행\")\n",
        "    #else는 조건문 사용하지 않음\n",
        "    "
      ],
      "metadata": {
        "id": "Sw5xwCe4-0Hi",
        "colab": {
          "base_uri": "https://localhost:8080/"
        },
        "outputId": "a660f8af-67c0-43a1-fdab-eded4b3a5fc5"
      },
      "execution_count": 21,
      "outputs": [
        {
          "output_type": "stream",
          "name": "stdout",
          "text": [
            "그 이외 (10이상)\n",
            "else도 들여쓰기 영역 모두 실행\n"
          ]
        }
      ]
    },
    {
      "cell_type": "code",
      "source": [
        "if True:\n",
        "    print(\"여기 들어온다\")\n",
        "else:\n",
        "    print(\"여기 안 들어와야함\")\n",
        "if False:\n",
        "    print(\"여기 안들어와야함\")\n",
        "else:\n",
        "    print(\"여기 들어온다\")\n"
      ],
      "metadata": {
        "id": "YrpRAIBK-wOI",
        "colab": {
          "base_uri": "https://localhost:8080/"
        },
        "outputId": "6771e198-7b8b-4bf6-910a-134567447f82"
      },
      "execution_count": 22,
      "outputs": [
        {
          "output_type": "stream",
          "name": "stdout",
          "text": [
            "여기 들어온다\n",
            "여기 들어온다\n"
          ]
        }
      ]
    },
    {
      "cell_type": "code",
      "source": [
        "if 1: #bool은 0만 아니면 숫자는 다 True이다.\n",
        "    print(\"0만 아니면 True 취급니다\")\n",
        "else:\n",
        "    print(\"여기 안 들어와야함\")\n",
        "if 0:\n",
        "    print(\"0은 False 취급\")\n",
        "else:\n",
        "    print(\"따라서 여기 들어온다\")"
      ],
      "metadata": {
        "id": "rHVjMbZL8bGO",
        "colab": {
          "base_uri": "https://localhost:8080/"
        },
        "outputId": "25192ee2-76dd-4889-bd43-502ab3ae15c8"
      },
      "execution_count": 25,
      "outputs": [
        {
          "output_type": "stream",
          "name": "stdout",
          "text": [
            "0만 아니면 True 취급니다\n",
            "따라서 여기 들어온다\n"
          ]
        }
      ]
    },
    {
      "cell_type": "code",
      "source": [
        "if \"ㅗ\": \n",
        "    print(\"글자가 있으면 True 취급한다\")\n",
        "else:\n",
        "    print(\"여기 안 들어와야함\")\n",
        "if \"\":\n",
        "    print(\"빈 문자는 False 취급\")\n",
        "else:\n",
        "    print(\"따라서 여기 들어온다\")"
      ],
      "metadata": {
        "id": "8inbIeHU43BT",
        "colab": {
          "base_uri": "https://localhost:8080/"
        },
        "outputId": "f3dc6637-e040-4e9e-fa8b-c1f628a4a66d"
      },
      "execution_count": 27,
      "outputs": [
        {
          "output_type": "stream",
          "name": "stdout",
          "text": [
            "글자가 있으면 True 취급한다\n",
            "따라서 여기 들어온다\n"
          ]
        }
      ]
    },
    {
      "cell_type": "code",
      "source": [
        "a=-1\n",
        "b=-1\n",
        "if a>0 or b>0:\n",
        "    print(\"둘 중 하나라도 맞으면 여기로\")\n",
        "else:\n",
        "    print(\"둘 다 아니라면 여기로\")"
      ],
      "metadata": {
        "colab": {
          "base_uri": "https://localhost:8080/"
        },
        "id": "csqEvyFZqKWO",
        "outputId": "73160202-1fe8-4df2-f640-231490d31fb5"
      },
      "execution_count": 30,
      "outputs": [
        {
          "output_type": "stream",
          "name": "stdout",
          "text": [
            "둘 다 아니라면 여기로\n"
          ]
        }
      ]
    },
    {
      "cell_type": "code",
      "source": [
        "x=10\n",
        "if 0 < x < 20:\n",
        "    print(\"부등호 연달아 써도 된다\")\n",
        "    "
      ],
      "metadata": {
        "colab": {
          "base_uri": "https://localhost:8080/"
        },
        "id": "5zqGsviHrDrX",
        "outputId": "e297ca3f-018a-416d-a1a3-161cf028e259"
      },
      "execution_count": 33,
      "outputs": [
        {
          "output_type": "stream",
          "name": "stdout",
          "text": [
            "부등호 연달아 써도 된다\n"
          ]
        }
      ]
    },
    {
      "cell_type": "code",
      "source": [
        "x=25\n",
        "if x < 10:\n",
        "    print(\"10보다 작은가?\")\n",
        "elif x<50:  #else+if\n",
        "    print(\"아니면 50보다 작은가?\")"
      ],
      "metadata": {
        "colab": {
          "base_uri": "https://localhost:8080/"
        },
        "id": "2xo2lO52rWlU",
        "outputId": "ff3e0a3f-613f-4ade-96ef-6502baf95742"
      },
      "execution_count": 35,
      "outputs": [
        {
          "output_type": "stream",
          "name": "stdout",
          "text": [
            "아니면 50보다 작은가?\n"
          ]
        }
      ]
    },
    {
      "cell_type": "code",
      "source": [
        "x=150\n",
        "if x < 10: #5일경우 가장 먼저 본 애를 실행.\n",
        "    print(\"10보다 작은가?\")\n",
        "elif x<100:  #else+if\n",
        "    print(\"아니면 100보다 작은가?\")\n",
        "else:\n",
        "    print(\"10보다 작지도 100보다 작지도 않은가?\")\n"
      ],
      "metadata": {
        "colab": {
          "base_uri": "https://localhost:8080/"
        },
        "id": "SdR-Zmp0rtyY",
        "outputId": "13f15b84-8341-4aba-b310-80d843c0561a"
      },
      "execution_count": 39,
      "outputs": [
        {
          "output_type": "stream",
          "name": "stdout",
          "text": [
            "10보다 작지도 100보다 작지도 않은가?\n"
          ]
        }
      ]
    },
    {
      "cell_type": "code",
      "source": [
        "x==6\n",
        "if x==1:\n",
        "    print(\"1에 해당하는 무언가 실행\")\n",
        "elif x==2: #elif는 개수 제한이 없다.\n",
        "    print(\"2에 해당하는 무언가 실행\")\n",
        "elif x==3:\n",
        "    print(\"3에 해당하는 무언가 실행\")\n",
        "elif x==4:\n",
        "    print(\"4에 해당하는 무언가 실행\")\n",
        "elif x==5:\n",
        "    print(\"5에 해당하는 무언가 실행\")    \n",
        "else:\n",
        "    print(\"다른숫자\") #else는 개수 상관 없음.\n",
        "    \n"
      ],
      "metadata": {
        "colab": {
          "base_uri": "https://localhost:8080/"
        },
        "id": "GDwXSVQGu_oq",
        "outputId": "d47069ab-b472-4a12-a728-9e93ad065631"
      },
      "execution_count": 44,
      "outputs": [
        {
          "output_type": "stream",
          "name": "stdout",
          "text": [
            "다른숫자\n"
          ]
        }
      ]
    },
    {
      "cell_type": "markdown",
      "source": [
        "#**반복문**"
      ],
      "metadata": {
        "id": "J9ei3sm5vrX_"
      }
    },
    {
      "cell_type": "code",
      "source": [
        "print(\"Hello!\")\n",
        "print(\"Hello!\")\n",
        "print(\"Hello!\")\n",
        "print(\"Hello!\")\n",
        "print(\"Hello!\")"
      ],
      "metadata": {
        "id": "krKAUo-Uvs2m"
      },
      "execution_count": null,
      "outputs": []
    },
    {
      "cell_type": "code",
      "source": [
        "for i in range(5):\n",
        "    print(\"Hello!\")\n",
        "    "
      ],
      "metadata": {
        "colab": {
          "base_uri": "https://localhost:8080/"
        },
        "id": "VaPFjdQbvqWH",
        "outputId": "6bc32301-3ff0-443b-a23f-4fb6ea1fa0a9"
      },
      "execution_count": 46,
      "outputs": [
        {
          "output_type": "stream",
          "name": "stdout",
          "text": [
            "Hello!\n",
            "Hello!\n",
            "Hello!\n",
            "Hello!\n",
            "Hello!\n"
          ]
        }
      ]
    },
    {
      "cell_type": "code",
      "source": [
        "for i in range(5): #range(5) <-0,1,2,3,4로부터 i 라는 이름으로 하나씩 꺼내서 그 i 에 대해 아래를 실행해라.\n",
        "    print(i)"
      ],
      "metadata": {
        "id": "AaKYrhowwI2e"
      },
      "execution_count": null,
      "outputs": []
    },
    {
      "cell_type": "code",
      "source": [
        "for i in range(5,12,2):\n",
        "    print(i)"
      ],
      "metadata": {
        "colab": {
          "base_uri": "https://localhost:8080/"
        },
        "id": "oaysujihvlQC",
        "outputId": "3befe69a-ab66-4fd5-a4ff-6ec338a83f64"
      },
      "execution_count": 48,
      "outputs": [
        {
          "output_type": "stream",
          "name": "stdout",
          "text": [
            "5\n",
            "7\n",
            "9\n",
            "11\n"
          ]
        }
      ]
    },
    {
      "cell_type": "code",
      "source": [
        "for i in range(10,0,-1):\n",
        "    print(i)\n",
        "    "
      ],
      "metadata": {
        "colab": {
          "base_uri": "https://localhost:8080/"
        },
        "id": "wiR57cX6wrlG",
        "outputId": "54e0b5bd-4a76-401b-f019-0770d474423a"
      },
      "execution_count": 49,
      "outputs": [
        {
          "output_type": "stream",
          "name": "stdout",
          "text": [
            "10\n",
            "9\n",
            "8\n",
            "7\n",
            "6\n",
            "5\n",
            "4\n",
            "3\n",
            "2\n",
            "1\n"
          ]
        }
      ]
    },
    {
      "cell_type": "code",
      "source": [
        "for i in reversed(range(10)):\n",
        "    print(i)"
      ],
      "metadata": {
        "colab": {
          "base_uri": "https://localhost:8080/"
        },
        "id": "1vdAiEgnwyA9",
        "outputId": "33a479da-07ef-4f24-f4aa-bee04bce4e74"
      },
      "execution_count": 52,
      "outputs": [
        {
          "output_type": "stream",
          "name": "stdout",
          "text": [
            "9\n",
            "8\n",
            "7\n",
            "6\n",
            "5\n",
            "4\n",
            "3\n",
            "2\n",
            "1\n",
            "0\n"
          ]
        }
      ]
    },
    {
      "cell_type": "code",
      "source": [
        "list(reversed(range(10))) #뭔가의 형태를 알고싶으면 list를 사용해서 알아보기\n"
      ],
      "metadata": {
        "colab": {
          "base_uri": "https://localhost:8080/"
        },
        "id": "PqEMeETrw-Fr",
        "outputId": "51aab656-3832-4362-8b59-576ca3df6efb"
      },
      "execution_count": 53,
      "outputs": [
        {
          "output_type": "execute_result",
          "data": {
            "text/plain": [
              "[9, 8, 7, 6, 5, 4, 3, 2, 1, 0]"
            ]
          },
          "metadata": {},
          "execution_count": 53
        }
      ]
    },
    {
      "cell_type": "code",
      "source": [
        "i=0\n",
        "while i<5: #i가 5보다 작은 동안에 반복적으로 실행한다.\n",
        "    print(i)\n",
        "\n",
        "    i+=1\n",
        "print()\n",
        "print(\"i=\",i) "
      ],
      "metadata": {
        "colab": {
          "base_uri": "https://localhost:8080/"
        },
        "id": "AuefRglEue8J",
        "outputId": "4aba9dc2-1176-4ce1-e8c2-3dace5f64fad"
      },
      "execution_count": 56,
      "outputs": [
        {
          "output_type": "stream",
          "name": "stdout",
          "text": [
            "0\n",
            "1\n",
            "2\n",
            "3\n",
            "4\n",
            "\n",
            "i= 5\n"
          ]
        }
      ]
    },
    {
      "cell_type": "code",
      "source": [
        "i=0\n",
        "while True:\n",
        "    print(i)\n",
        "    i+=1 #무한루프\n",
        "    if i ==5:\n",
        "        break"
      ],
      "metadata": {
        "colab": {
          "base_uri": "https://localhost:8080/"
        },
        "id": "saJy40f_5V2J",
        "outputId": "ab939e50-880e-4a57-be37-b28e8ee739e8"
      },
      "execution_count": 59,
      "outputs": [
        {
          "output_type": "stream",
          "name": "stdout",
          "text": [
            "0\n",
            "1\n",
            "2\n",
            "3\n",
            "4\n"
          ]
        }
      ]
    },
    {
      "cell_type": "code",
      "source": [
        "for i in range(10):\n",
        "    if i % 2 ==0:\n",
        "        continue #건너뛰어라 #continue만나면 그 밑(print)으로는 안 하고 하던 반복 마저 들어감.\n",
        "    print(i)"
      ],
      "metadata": {
        "colab": {
          "base_uri": "https://localhost:8080/"
        },
        "id": "60ljQmJr6J2s",
        "outputId": "f1ea26ac-b7cc-4bca-d703-21a6ce15ec50"
      },
      "execution_count": 60,
      "outputs": [
        {
          "output_type": "stream",
          "name": "stdout",
          "text": [
            "1\n",
            "3\n",
            "5\n",
            "7\n",
            "9\n"
          ]
        }
      ]
    },
    {
      "cell_type": "code",
      "source": [
        "a=[1,2,3,4,5]\n",
        "for i in range(len(a)): #len(a) 는 5 range(5) 안에서 반복\n",
        "    print(i,\"번째에\",a[i],\"가 들어있어요.\")\n",
        "    "
      ],
      "metadata": {
        "colab": {
          "base_uri": "https://localhost:8080/"
        },
        "id": "6UcorqKz5N1I",
        "outputId": "901df9e7-8e03-4802-cdb4-f8440d01b786"
      },
      "execution_count": 62,
      "outputs": [
        {
          "output_type": "stream",
          "name": "stdout",
          "text": [
            "0 번째에 1 가 들어있어요.\n",
            "1 번째에 2 가 들어있어요.\n",
            "2 번째에 3 가 들어있어요.\n",
            "3 번째에 4 가 들어있어요.\n",
            "4 번째에 5 가 들어있어요.\n"
          ]
        }
      ]
    },
    {
      "cell_type": "markdown",
      "source": [
        "#**for문과 함께 자주 쓰이는 enumerate**"
      ],
      "metadata": {
        "id": "kdyGMoGGKzUz"
      }
    },
    {
      "cell_type": "code",
      "source": [
        "a=[1,2,3,4,5]\n",
        "j=1\n",
        "for i in a:\n",
        "    print(j,\"번째에\",i,\"가 들어있어요.\")\n",
        "    j+=1"
      ],
      "metadata": {
        "colab": {
          "base_uri": "https://localhost:8080/"
        },
        "id": "oFZQvDafK6Y7",
        "outputId": "e4f9b369-c95f-40ee-861c-02ecccb55f2e"
      },
      "execution_count": 63,
      "outputs": [
        {
          "output_type": "stream",
          "name": "stdout",
          "text": [
            "1 번째에 1 가 들어있어요.\n",
            "2 번째에 2 가 들어있어요.\n",
            "3 번째에 3 가 들어있어요.\n",
            "4 번째에 4 가 들어있어요.\n",
            "5 번째에 5 가 들어있어요.\n"
          ]
        }
      ]
    },
    {
      "cell_type": "code",
      "source": [
        "a=[1,2,3,4,5]\n",
        "for i,val in enumerate(a, start=1):\n",
        "    print(i,\"번째에\",val,\"가 들어있어요.\")"
      ],
      "metadata": {
        "colab": {
          "base_uri": "https://localhost:8080/"
        },
        "id": "c1rug6Qt48wg",
        "outputId": "b43cb55c-9794-491d-80df-becb6dcc917d"
      },
      "execution_count": 64,
      "outputs": [
        {
          "output_type": "stream",
          "name": "stdout",
          "text": [
            "1 번째에 1 가 들어있어요.\n",
            "2 번째에 2 가 들어있어요.\n",
            "3 번째에 3 가 들어있어요.\n",
            "4 번째에 4 가 들어있어요.\n",
            "5 번째에 5 가 들어있어요.\n"
          ]
        }
      ]
    },
    {
      "cell_type": "markdown",
      "source": [
        "##반복문 과제"
      ],
      "metadata": {
        "id": "SDMTL8jSL3xK"
      }
    },
    {
      "cell_type": "code",
      "source": [
        "#mine\n",
        "a=[\"*\"]\n",
        "j=1\n",
        "while j<5:\n",
        "    for i in a :\n",
        "        print(i*j)\n",
        "    j+=1\n",
        "    #문자열도 곱하기가 됨.\n",
        "\n",
        "   \n",
        "     "
      ],
      "metadata": {
        "colab": {
          "base_uri": "https://localhost:8080/"
        },
        "id": "96QLbsyxL7HE",
        "outputId": "c0d8dc48-a581-4a5f-e693-58ded19873d1"
      },
      "execution_count": 92,
      "outputs": [
        {
          "output_type": "stream",
          "name": "stdout",
          "text": [
            "*\n",
            "**\n",
            "***\n",
            "****\n"
          ]
        }
      ]
    },
    {
      "cell_type": "code",
      "source": [
        "#sol\n",
        "for i in range(1,5):\n",
        "    print(\"*\"*i)\n",
        "\n",
        "#또는\n",
        "i=1\n",
        "while i<5:\n",
        "    print(\"*\"*i)\n",
        "    i+=1"
      ],
      "metadata": {
        "colab": {
          "base_uri": "https://localhost:8080/"
        },
        "id": "SHaj1yNSNH7k",
        "outputId": "5dfc85c4-21fe-4760-8fa4-8900d347934b"
      },
      "execution_count": 98,
      "outputs": [
        {
          "output_type": "stream",
          "name": "stdout",
          "text": [
            "*\n",
            "**\n",
            "***\n",
            "****\n",
            "*\n",
            "**\n",
            "***\n",
            "****\n"
          ]
        }
      ]
    },
    {
      "cell_type": "markdown",
      "source": [
        "#**리스트 심화**"
      ],
      "metadata": {
        "id": "xRhqTdJsSm4N"
      }
    },
    {
      "cell_type": "code",
      "source": [],
      "metadata": {
        "colab": {
          "base_uri": "https://localhost:8080/"
        },
        "id": "Ir8x40xZNLBu",
        "outputId": "6bd0ebe5-5c53-450d-8b43-54ebe6316104"
      },
      "execution_count": 94,
      "outputs": [
        {
          "output_type": "execute_result",
          "data": {
            "text/plain": [
              "[1, 2, 3, 4]"
            ]
          },
          "metadata": {},
          "execution_count": 94
        }
      ]
    },
    {
      "cell_type": "markdown",
      "source": [],
      "metadata": {
        "id": "X3_roXLeDN0K"
      }
    }
  ]
}
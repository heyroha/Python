{
  "nbformat": 4,
  "nbformat_minor": 0,
  "metadata": {
    "colab": {
      "provenance": [],
      "authorship_tag": "ABX9TyMdorqGXRVyeyGNCMqyXWx9",
      "include_colab_link": true
    },
    "kernelspec": {
      "name": "python3",
      "display_name": "Python 3"
    },
    "language_info": {
      "name": "python"
    }
  },
  "cells": [
    {
      "cell_type": "markdown",
      "metadata": {
        "id": "view-in-github",
        "colab_type": "text"
      },
      "source": [
        "<a href=\"https://colab.research.google.com/github/heyroha/Python/blob/main/%EB%B0%B1%EC%A4%80.ipynb\" target=\"_parent\"><img src=\"https://colab.research.google.com/assets/colab-badge.svg\" alt=\"Open In Colab\"/></a>"
      ]
    },
    {
      "cell_type": "code",
      "execution_count": 42,
      "metadata": {
        "colab": {
          "base_uri": "https://localhost:8080/"
        },
        "id": "Vobqg5Lqy4lL",
        "outputId": "cb11efd2-1b93-4f19-a241-70b60acacfc1"
      },
      "outputs": [
        {
          "output_type": "stream",
          "name": "stdout",
          "text": [
            "3\n",
            "3??!\n"
          ]
        }
      ],
      "source": [
        "id2 = input(\"\")\n",
        "id1 = id2\n",
        "if id1 == id2:\n",
        "    print(f\"{id2}\" + \"??!\")\n",
        "\n"
      ]
    },
    {
      "cell_type": "code",
      "source": [
        "year = int(input(\"\"))\n",
        "print(year-544+1)"
      ],
      "metadata": {
        "colab": {
          "base_uri": "https://localhost:8080/"
        },
        "id": "0NoUt9Kq1Up9",
        "outputId": "646daf03-f01f-463a-c5e9-1c5163cbd744"
      },
      "execution_count": 43,
      "outputs": [
        {
          "output_type": "stream",
          "name": "stdout",
          "text": [
            "2\n",
            "-541\n"
          ]
        }
      ]
    },
    {
      "cell_type": "code",
      "source": [
        "A,B,C = map(int,input().split(\" \"))\n",
        "print((A+B)%C)\n",
        "print(((A%C) + (B%C))%C)\n",
        "print((A*B)%C)\n",
        "print(((A%C) * (B%C))%C)\n"
      ],
      "metadata": {
        "colab": {
          "base_uri": "https://localhost:8080/"
        },
        "id": "CyzJ8-Cr85YT",
        "outputId": "ccb9efc2-873d-4097-ee18-f1a967df7823"
      },
      "execution_count": 44,
      "outputs": [
        {
          "output_type": "stream",
          "name": "stdout",
          "text": [
            "1 2 3\n",
            "0\n",
            "0\n",
            "2\n",
            "2\n"
          ]
        }
      ]
    },
    {
      "cell_type": "code",
      "source": [
        "A,B,C = map(int,input().split(\" \"))\n",
        "print(A+B+C)"
      ],
      "metadata": {
        "colab": {
          "base_uri": "https://localhost:8080/"
        },
        "id": "zMs41_PM9JfI",
        "outputId": "45dcc622-c84e-434c-e3ae-a85c0126539e"
      },
      "execution_count": 34,
      "outputs": [
        {
          "output_type": "stream",
          "name": "stdout",
          "text": [
            "77 77 7777\n",
            "7931\n"
          ]
        }
      ]
    },
    {
      "cell_type": "code",
      "source": [
        "print(\"\\\\    /\\\\\")\n",
        "print(\" )  ( ')\")\n",
        "print(\"(  /  )\")\n",
        "print(\" \\\\(__)|\")"
      ],
      "metadata": {
        "colab": {
          "base_uri": "https://localhost:8080/"
        },
        "id": "BY9Q4VHY9I_-",
        "outputId": "8df4e59e-a166-4611-fd2a-234ef6c5edfc"
      },
      "execution_count": 39,
      "outputs": [
        {
          "output_type": "stream",
          "name": "stdout",
          "text": [
            "\\    /\\\n",
            " )  ( ')\n",
            "(  /  )\n",
            " \\(__)|\n"
          ]
        }
      ]
    },
    {
      "cell_type": "code",
      "source": [
        "print(\"|\\\\_/|\")\n",
        "print(\"|q p|   /}\")\n",
        "print(\"( 0 )\\\"\\\"\\\"\\\\\")\n",
        "print(\"|\\\"^\\\"`    |\")\n",
        "print(\"||_/=\\\\\\\\__|\")"
      ],
      "metadata": {
        "colab": {
          "base_uri": "https://localhost:8080/"
        },
        "id": "97DqgYZ4_YkI",
        "outputId": "5b3541ce-32a4-40ae-f3e6-50c2020c2a98"
      },
      "execution_count": 45,
      "outputs": [
        {
          "output_type": "stream",
          "name": "stdout",
          "text": [
            "|\\_/|\n",
            "|q p|   /}\n",
            "( 0 )\"\"\"\\\n",
            "|\"^\"`    |\n",
            "||_/=\\\\__|\n"
          ]
        }
      ]
    },
    {
      "cell_type": "code",
      "source": [
        "A = int(input())\n",
        "B = int(input())\n",
        "print(A*(B%10))\n",
        "print(A*((B//10)%10))\n",
        "print(A*((B//100)))\n",
        "print(A*B)"
      ],
      "metadata": {
        "colab": {
          "base_uri": "https://localhost:8080/"
        },
        "id": "cS7rRe47Coom",
        "outputId": "f7ad8f34-36cc-4732-bff4-febf92e7c595"
      },
      "execution_count": 51,
      "outputs": [
        {
          "output_type": "stream",
          "name": "stdout",
          "text": [
            "472\n",
            "385\n",
            "2360\n",
            "3776\n",
            "1416\n"
          ]
        }
      ]
    },
    {
      "cell_type": "code",
      "source": [
        "A,B = map(int, input().split(\" \"))\n",
        "if A>B:\n",
        "    print(\">\")\n",
        "\n",
        "elif A<B:\n",
        "    print(\"<\")\n",
        "\n",
        "else:\n",
        "    print(\"==\")"
      ],
      "metadata": {
        "colab": {
          "base_uri": "https://localhost:8080/"
        },
        "id": "E642IIoPCpNp",
        "outputId": "1126db11-6b65-4792-e864-62a64bc4fd98"
      },
      "execution_count": 57,
      "outputs": [
        {
          "output_type": "stream",
          "name": "stdout",
          "text": [
            "3 5\n",
            "<\n"
          ]
        }
      ]
    },
    {
      "cell_type": "code",
      "source": [
        "score = int(input())\n",
        "if score >= 90 and score <= 100:\n",
        "    print(\"A\")\n",
        "\n",
        "elif score < 90 and score >= 80 :\n",
        "    print(\"B\")\n",
        "\n",
        "elif score < 80 and score >= 70 :\n",
        "    print(\"C\")\n",
        "\n",
        "elif score < 70 and score >= 60 :\n",
        "    print(\"D\")\n",
        "\n",
        "else:\n",
        "    print(\"F\")"
      ],
      "metadata": {
        "colab": {
          "base_uri": "https://localhost:8080/"
        },
        "id": "QbcYPHQNFhnX",
        "outputId": "f919cdb9-f61d-439f-9b8f-7841da11a931"
      },
      "execution_count": 60,
      "outputs": [
        {
          "output_type": "stream",
          "name": "stdout",
          "text": [
            "100\n",
            "A\n"
          ]
        }
      ]
    },
    {
      "cell_type": "code",
      "source": [
        "year = int(input())\n",
        "if ((year%4 == 0) and (year%100 != 0)) or ((year%4 == 0) and (year%400 == 0)):\n",
        "    print(\"1\")\n",
        "\n",
        "else:\n",
        "    print(\"0\")"
      ],
      "metadata": {
        "colab": {
          "base_uri": "https://localhost:8080/"
        },
        "id": "y94sH3CIGLyD",
        "outputId": "bae819f3-1254-41b8-8b89-facf549b0887"
      },
      "execution_count": 63,
      "outputs": [
        {
          "output_type": "stream",
          "name": "stdout",
          "text": [
            "1999\n",
            "0\n"
          ]
        }
      ]
    },
    {
      "cell_type": "code",
      "source": [
        "x = int(input())\n",
        "y = int(input())\n",
        "\n",
        "if x > 0 and y > 0:\n",
        "    print(\"1\")\n",
        "\n",
        "elif x < 0 and y > 0:\n",
        "    print(\"2\")\n",
        "\n",
        "elif x < 0 and y < 0:\n",
        "    print(\"3\")\n",
        "\n",
        "else:\n",
        "    print(\"4\")\n"
      ],
      "metadata": {
        "colab": {
          "base_uri": "https://localhost:8080/"
        },
        "id": "BW7sLgtPHDY0",
        "outputId": "e2bfa053-ef45-4e84-e705-bad74b94fe06"
      },
      "execution_count": 65,
      "outputs": [
        {
          "output_type": "stream",
          "name": "stdout",
          "text": [
            "12\n",
            "5\n",
            "1\n"
          ]
        }
      ]
    },
    {
      "cell_type": "code",
      "source": [
        "H,M = map(int, input().split(\" \"))\n",
        "if M >= 0 and M < 45:\n",
        "    if H == 0:\n",
        "        print(24-1,60-(45-M))\n",
        "    else:\n",
        "        print(H-1,60-(45-M))\n",
        "\n",
        "else:\n",
        "    print(H,M-45)"
      ],
      "metadata": {
        "colab": {
          "base_uri": "https://localhost:8080/"
        },
        "id": "wUwUtrQxH1YS",
        "outputId": "1f05e4b8-b13b-427d-d7fd-fc2620162e21"
      },
      "execution_count": 75,
      "outputs": [
        {
          "output_type": "stream",
          "name": "stdout",
          "text": [
            "23 40\n",
            "22 55\n"
          ]
        }
      ]
    },
    {
      "cell_type": "code",
      "source": [
        "H,M = map(int, input().split(\" \"))\n",
        "cooktime = int (input())\n",
        "\n"
      ],
      "metadata": {
        "id": "o0iHRtjEKTzP"
      },
      "execution_count": null,
      "outputs": []
    },
    {
      "cell_type": "code",
      "source": [],
      "metadata": {
        "id": "KWTL-gZOMALf"
      },
      "execution_count": null,
      "outputs": []
    }
  ]
}
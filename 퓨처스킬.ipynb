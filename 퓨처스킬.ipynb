{
  "nbformat": 4,
  "nbformat_minor": 0,
  "metadata": {
    "colab": {
      "provenance": [],
      "authorship_tag": "ABX9TyOZGi26f3UYgLNiqT+uW19W",
      "include_colab_link": true
    },
    "kernelspec": {
      "name": "python3",
      "display_name": "Python 3"
    },
    "language_info": {
      "name": "python"
    }
  },
  "cells": [
    {
      "cell_type": "markdown",
      "metadata": {
        "id": "view-in-github",
        "colab_type": "text"
      },
      "source": [
        "<a href=\"https://colab.research.google.com/github/heyroha/Python/blob/main/%ED%93%A8%EC%B2%98%EC%8A%A4%ED%82%AC.ipynb\" target=\"_parent\"><img src=\"https://colab.research.google.com/assets/colab-badge.svg\" alt=\"Open In Colab\"/></a>"
      ]
    },
    {
      "cell_type": "code",
      "execution_count": null,
      "metadata": {
        "id": "c9QwZaiNm6_6"
      },
      "outputs": [],
      "source": [
        "from math import pi\n",
        "degrees = 180\n",
        "\n",
        "def degrees_to_rads(degrees):\n",
        "\n"
      ]
    }
  ]
}